{
 "cells": [
  {
   "cell_type": "markdown",
   "metadata": {},
   "source": [
    "### Small Tensorflow project using MNIST dataset."
   ]
  },
  {
   "cell_type": "code",
   "execution_count": 48,
   "metadata": {},
   "outputs": [],
   "source": [
    "import tensorflow as tf\n",
    "\n",
    "from tensorflow.keras.losses import SparseCategoricalCrossentropy, MeanAbsoluteError, MeanSquaredError\n",
    "from tensorflow.keras.metrics import Mean, SparseCategoricalAccuracy\n",
    "from tensorflow.keras.layers import Dense, Flatten, Conv2D\n",
    "from tensorflow.keras.optimizers import Adam, SGD, Adagrad\n",
    "from tensorflow.keras import Model\n",
    "\n",
    "import pandas as pd\n",
    "\n",
    "import time\n"
   ]
  },
  {
   "cell_type": "markdown",
   "metadata": {},
   "source": [
    "##### Load MNIST dataset"
   ]
  },
  {
   "cell_type": "code",
   "execution_count": 38,
   "metadata": {},
   "outputs": [],
   "source": [
    "(x_train, y_train), (x_test, y_test) = tf.keras.datasets.mnist.load_data()\n",
    "\n",
    "# Rescale to range 0..1\n",
    "x_train = x_train / 255.0\n",
    "x_test = x_test / 255.0\n",
    "\n",
    "# Add channels\n",
    "x_train = x_train[..., tf.newaxis].astype(\"float32\")\n",
    "x_test = x_test[..., tf.newaxis].astype(\"float32\")"
   ]
  },
  {
   "cell_type": "markdown",
   "metadata": {},
   "source": [
    "##### Shuffle dataset and prepare batches"
   ]
  },
  {
   "cell_type": "code",
   "execution_count": 39,
   "metadata": {},
   "outputs": [],
   "source": [
    "training_dataset = tf.data.Dataset.from_tensor_slices((x_train, y_train))\n",
    "training_dataset = training_dataset.shuffle(buffer_size=training_dataset.cardinality()).batch(32)\n",
    "\n",
    "testing_dataset = tf.data.Dataset.from_tensor_slices((x_test, y_test)).batch(32)"
   ]
  },
  {
   "cell_type": "markdown",
   "metadata": {},
   "source": [
    "##### Create model class"
   ]
  },
  {
   "cell_type": "code",
   "execution_count": 40,
   "metadata": {},
   "outputs": [],
   "source": [
    "class model_1conv(Model):\n",
    "    # Constructor\n",
    "    def __init__(self, n_of_filters, n_of_dense_neurons):\n",
    "        super(model_1conv, self).__init__()\n",
    "\n",
    "        self.conv = Conv2D(filters=n_of_filters,\n",
    "                           kernel_size=3,\n",
    "                           activation=\"relu\")\n",
    "        self.flatten = Flatten()\n",
    "        self.dense_1 = Dense(n_of_dense_neurons, activation=\"relu\")\n",
    "        self.dense_2 = Dense(10)\n",
    "\n",
    "    # Call method\n",
    "    def call(self, x):\n",
    "        x = self.conv(x)\n",
    "        x = self.flatten(x)\n",
    "        x = self.dense_1(x)\n",
    "        x = self.dense_2(x)\n",
    "\n",
    "        return x"
   ]
  },
  {
   "cell_type": "code",
   "execution_count": 41,
   "metadata": {},
   "outputs": [],
   "source": [
    "class model_2conv(Model):\n",
    "    # Constructor\n",
    "    def __init__(self, n_of_filters, n_of_dense_neurons):\n",
    "        super(model_2conv, self).__init__()\n",
    "\n",
    "        self.conv_1 = Conv2D(filters=n_of_filters[0],\n",
    "                             kernel_size=3,\n",
    "                             activation=\"relu\")\n",
    "        self.conv_1 = Conv2D(filters=n_of_filters[1],\n",
    "                             kernel_size=3,\n",
    "                             activation=\"relu\")\n",
    "        self.flatten = Flatten()\n",
    "        self.dense_1 = Dense(n_of_dense_neurons, activation=\"relu\")\n",
    "        self.dense_2 = Dense(10)\n",
    "\n",
    "    # Call method\n",
    "    def call(self, x):\n",
    "        x = self.conv_1(x)\n",
    "        x = self.conv_2(x)\n",
    "        x = self.flatten(x)\n",
    "        x = self.dense_1(x)\n",
    "        x = self.dense_2(x)\n",
    "\n",
    "        return x"
   ]
  },
  {
   "cell_type": "markdown",
   "metadata": {},
   "source": [
    "##### Create instances of models"
   ]
  },
  {
   "cell_type": "code",
   "execution_count": 42,
   "metadata": {},
   "outputs": [],
   "source": [
    "# Different model parameters\n",
    "filters = [4, 8, 16, 32, 64]\n",
    "dense_neurons = [16, 32, 64, 128, 256]\n",
    "\n",
    "# Models with one Convolutional Layer\n",
    "conv1_var_f = [model_1conv(n_of_filters=f, n_of_dense_neurons=128) for f in filters]            # Variated filters\n",
    "conv1_var_d = [model_1conv(n_of_filters=32, n_of_dense_neurons=dn) for dn in dense_neurons]     # Variated number of neurons in Dense layer\n",
    "\n",
    "# Model with two Convolutional Layers\n",
    "conv2_var_f = [model_2conv(n_of_filters=(f, f), n_of_dense_neurons=128) for f in filters]               # Variated filters\n",
    "conv2_var_f = [model_2conv(n_of_filters=(32, 32), n_of_dense_neurons=dn) for dn in dense_neurons]       # Variated number of neurons in Dense layer"
   ]
  },
  {
   "cell_type": "markdown",
   "metadata": {},
   "source": [
    "##### Loss functions and optimizers for training"
   ]
  },
  {
   "cell_type": "code",
   "execution_count": 43,
   "metadata": {},
   "outputs": [],
   "source": [
    "loss_objects = [MeanAbsoluteError(), MeanSquaredError(), SparseCategoricalCrossentropy(from_logits=True)]\n",
    "optimizers = [Adam(), SGD(), Adagrad()]"
   ]
  },
  {
   "cell_type": "code",
   "execution_count": 44,
   "metadata": {},
   "outputs": [],
   "source": [
    "# Metrics for measurement of model's loss and accuracy\n",
    "training_loss = Mean(name=\"train_loss\")\n",
    "testing_loss = Mean(name=\"test_loss\")\n",
    "\n",
    "training_accuracy = SparseCategoricalAccuracy(name=\"train_acc\")\n",
    "testing_accuracy = SparseCategoricalAccuracy(name=\"test_acc\")"
   ]
  },
  {
   "cell_type": "markdown",
   "metadata": {},
   "source": [
    "##### Model's training and testing functions"
   ]
  },
  {
   "cell_type": "code",
   "execution_count": 45,
   "metadata": {},
   "outputs": [],
   "source": [
    "# Define function as Tensorflow Graph\n",
    "# @tf.function\n",
    "def train_step(model, loss_object, optimizer, images, labels):\n",
    "\n",
    "    # Automatic differentiation\n",
    "    with tf.GradientTape() as tape:\n",
    "        predictions = model(images, training=True)\n",
    "        loss = loss_object(labels, predictions)\n",
    "\n",
    "    gradients = tape.gradient(loss, model.trainable_variables)\n",
    "    optimizer.apply_gradients(zip(gradients, model.trainable_variables))\n",
    "\n",
    "    training_loss(loss)\n",
    "    training_accuracy(labels, predictions)"
   ]
  },
  {
   "cell_type": "code",
   "execution_count": 46,
   "metadata": {},
   "outputs": [],
   "source": [
    "# Define function as Tensorflow Graph\n",
    "# @tf.function\n",
    "def test_step(model, loss_object, images, labels):\n",
    "    predictions = model(images, training=False)\n",
    "    loss = loss_object(labels, predictions)\n",
    "\n",
    "    testing_loss(loss)\n",
    "    testing_accuracy(labels, predictions)"
   ]
  },
  {
   "cell_type": "markdown",
   "metadata": {},
   "source": [
    "##### Training and model metrics acquisition\n",
    "\n",
    "The deafult model has one Convolutional Layer with 32 filters and a Dense Layer with 128 neurons, uses SparseCategoricalCrossentropy to calculate loss and uses Adam optimizer.\n",
    "\n",
    "I decided to compare models after changing one of the following aspects:\n",
    "\n",
    "- Number of filters used in Convolutional Layers\n",
    "- Number of neurons used in Dense Layers\n",
    "- What impact will adding one additional Convolutional Layer have (and if previously mentions aspects matter after adding it)\n",
    "- Type of Loss Function used\n",
    "- Type of optimizer used "
   ]
  },
  {
   "cell_type": "code",
   "execution_count": 51,
   "metadata": {},
   "outputs": [
    {
     "name": "stdout",
     "output_type": "stream",
     "text": [
      "Model with 4 filters:\n"
     ]
    },
    {
     "name": "stderr",
     "output_type": "stream",
     "text": [
      "C:\\Users\\patry\\AppData\\Local\\Temp\\ipykernel_2428\\1518757024.py:42: FutureWarning: The behavior of DataFrame concatenation with empty or all-NA entries is deprecated. In a future version, this will no longer exclude empty or all-NA columns when determining the result dtypes. To retain the old behavior, exclude the relevant entries before the concat operation.\n",
      "  metrics = pd.concat([metrics, pd.DataFrame([record])], ignore_index=True)\n"
     ]
    },
    {
     "name": "stdout",
     "output_type": "stream",
     "text": [
      "    Epoch 1,     Loss: 0.21204976737499237,     Accuracy: 95.03499603271484,     Test Loss: 0.17134815454483032,     Test Accuracy: 95.69000244140625\n",
      "    Epoch 2,     Loss: 0.23069767653942108,     Accuracy: 94.9000015258789,     Test Loss: 0.1959061324596405,     Test Accuracy: 95.36000061035156\n",
      "    Epoch 3,     Loss: 0.2200690060853958,     Accuracy: 95.37666320800781,     Test Loss: 0.2592508792877197,     Test Accuracy: 95.44000244140625\n",
      "    Epoch 4,     Loss: 0.20304836332798004,     Accuracy: 95.83833312988281,     Test Loss: 0.18744854629039764,     Test Accuracy: 96.18000030517578\n",
      "    Epoch 5,     Loss: 0.19112274050712585,     Accuracy: 96.1683349609375,     Test Loss: 0.2564159035682678,     Test Accuracy: 95.22000122070312\n",
      "Model with 8 filters:\n",
      "    Epoch 1,     Loss: 0.2497825026512146,     Accuracy: 92.79500579833984,     Test Loss: 0.1670392006635666,     Test Accuracy: 95.59000396728516\n",
      "    Epoch 2,     Loss: 0.1685982197523117,     Accuracy: 95.68499755859375,     Test Loss: 0.15556271374225616,     Test Accuracy: 96.09000396728516\n",
      "    Epoch 3,     Loss: 0.19054476916790009,     Accuracy: 95.5566635131836,     Test Loss: 0.1702280044555664,     Test Accuracy: 96.27999877929688\n",
      "    Epoch 4,     Loss: 0.17656078934669495,     Accuracy: 95.99666595458984,     Test Loss: 0.13120661675930023,     Test Accuracy: 96.31999969482422\n",
      "    Epoch 5,     Loss: 0.17519353330135345,     Accuracy: 96.23833465576172,     Test Loss: 0.13264836370944977,     Test Accuracy: 96.69000244140625\n",
      "Model with 16 filters:\n",
      "    Epoch 1,     Loss: 0.20148108899593353,     Accuracy: 94.23999786376953,     Test Loss: 0.11864273995161057,     Test Accuracy: 96.87999725341797\n",
      "    Epoch 2,     Loss: 0.13482318818569183,     Accuracy: 97.05332946777344,     Test Loss: 0.11336870491504669,     Test Accuracy: 97.45999908447266\n",
      "    Epoch 3,     Loss: 0.13078321516513824,     Accuracy: 97.55166625976562,     Test Loss: 0.12767814099788666,     Test Accuracy: 97.41999816894531\n",
      "    Epoch 4,     Loss: 0.12436985224485397,     Accuracy: 98.02667236328125,     Test Loss: 0.16808879375457764,     Test Accuracy: 97.64999389648438\n",
      "    Epoch 5,     Loss: 0.12003882974386215,     Accuracy: 98.37667083740234,     Test Loss: 0.1671900898218155,     Test Accuracy: 97.91999816894531\n",
      "Model with 32 filters:\n",
      "    Epoch 1,     Loss: 0.18057450652122498,     Accuracy: 94.94666290283203,     Test Loss: 0.10803676396608353,     Test Accuracy: 97.36000061035156\n",
      "    Epoch 2,     Loss: 0.131814643740654,     Accuracy: 97.3550033569336,     Test Loss: 0.11368951946496964,     Test Accuracy: 97.62999725341797\n",
      "    Epoch 3,     Loss: 0.14306536316871643,     Accuracy: 97.63333129882812,     Test Loss: 0.25514963269233704,     Test Accuracy: 95.3800048828125\n",
      "    Epoch 4,     Loss: 0.140448659658432,     Accuracy: 98.125,     Test Loss: 0.167669877409935,     Test Accuracy: 97.66999816894531\n",
      "    Epoch 5,     Loss: 0.13404041528701782,     Accuracy: 98.47999572753906,     Test Loss: 0.18697230517864227,     Test Accuracy: 97.86000061035156\n",
      "Model with 64 filters:\n",
      "    Epoch 1,     Loss: 0.1830834150314331,     Accuracy: 94.9183349609375,     Test Loss: 0.15004219114780426,     Test Accuracy: 95.94000244140625\n",
      "    Epoch 2,     Loss: 0.1324470043182373,     Accuracy: 97.2249984741211,     Test Loss: 0.13781337440013885,     Test Accuracy: 96.62000274658203\n",
      "    Epoch 3,     Loss: 0.14020265638828278,     Accuracy: 97.69166564941406,     Test Loss: 0.12654748558998108,     Test Accuracy: 97.97999572753906\n",
      "    Epoch 4,     Loss: 0.14748114347457886,     Accuracy: 98.17500305175781,     Test Loss: 0.18324416875839233,     Test Accuracy: 97.5\n",
      "    Epoch 5,     Loss: 0.1323426365852356,     Accuracy: 98.49500274658203,     Test Loss: 0.15196578204631805,     Test Accuracy: 98.25999450683594\n"
     ]
    }
   ],
   "source": [
    "N_OF_EPOCHS = 5\n",
    "\n",
    "metrics = pd.DataFrame(columns=[\"train_loss\", \"train_acc\", \"train_time\" , \"test_loss\", \"test_acc\"])\n",
    "\n",
    "# Training and testing of models with one Convolutional Layer and variated number of filters\n",
    "for i, model in enumerate(conv1_var_f):       # [4, 8, 16, 32, 64]\n",
    "    print(f\"Model with {filters[i]} filters:\")\n",
    "\n",
    "    for epoch in range(N_OF_EPOCHS):\n",
    "\n",
    "        # Metrics reset\n",
    "        training_loss.reset_states()\n",
    "        testing_loss.reset_states()\n",
    "        training_accuracy.reset_states()\n",
    "        testing_accuracy.reset_states()\n",
    "\n",
    "        # Training\n",
    "        t_start = time.time()\n",
    "        for train_images, train_labels in training_dataset:\n",
    "            train_step(model=model,\n",
    "                       loss_object=SparseCategoricalCrossentropy(from_logits=True),\n",
    "                       optimizer=Adam(),\n",
    "                       images=train_images,\n",
    "                       labels=train_labels)\n",
    "        t_stop = time.time()\n",
    "\n",
    "        # Testing\n",
    "        for test_images, test_labels in testing_dataset:\n",
    "            test_step(model=model,\n",
    "                      loss_object=SparseCategoricalCrossentropy(from_logits=True),\n",
    "                      images=test_images,\n",
    "                      labels=test_labels)\n",
    "\n",
    "        record = {\"train_loss\": training_loss.result(),\n",
    "                  \"train_acc\": training_accuracy.result(),\n",
    "                  \"train_time\": t_stop - t_start,\n",
    "                  \"test_loss\": testing_loss.result(),\n",
    "                  \"test_acc\": testing_accuracy.result()}\n",
    "        metrics = pd.concat([metrics, pd.DataFrame([record])], ignore_index=True)\n",
    "\n",
    "        print(f\"    Epoch {epoch + 1}, \"\n",
    "              f\"    Loss: {training_loss.result()}, \"\n",
    "              f\"    Accuracy: {training_accuracy.result() * 100}, \"\n",
    "              f\"    Test Loss: {testing_loss.result()}, \"\n",
    "              f\"    Test Accuracy: {testing_accuracy.result() * 100}\")\n",
    "\n",
    "    print(\"\\n\")\n"
   ]
  }
 ],
 "metadata": {
  "kernelspec": {
   "display_name": "Python 3",
   "language": "python",
   "name": "python3"
  },
  "language_info": {
   "codemirror_mode": {
    "name": "ipython",
    "version": 3
   },
   "file_extension": ".py",
   "mimetype": "text/x-python",
   "name": "python",
   "nbconvert_exporter": "python",
   "pygments_lexer": "ipython3",
   "version": "3.11.6"
  }
 },
 "nbformat": 4,
 "nbformat_minor": 2
}
